{
 "cells": [
  {
   "attachments": {},
   "cell_type": "markdown",
   "metadata": {},
   "source": [
    "Titanic. 40+ models"
   ]
  },
  {
   "cell_type": "code",
   "execution_count": 1,
   "metadata": {},
   "outputs": [],
   "source": [
    "from sklearn.ensemble import AdaBoostClassifier\n",
    "from sklearn.ensemble import BaggingClassifier\n",
    "from sklearn.naive_bayes import BernoulliNB\n",
    "from sklearn.calibration import CalibratedClassifierCV\n",
    "from sklearn.naive_bayes import CategoricalNB\n",
    "from sklearn.multioutput import ClassifierChain\n",
    "from sklearn.naive_bayes import ComplementNB\n",
    "from sklearn.tree import DecisionTreeClassifier\n",
    "from sklearn.dummy import DummyClassifier\n",
    "from sklearn.tree import ExtraTreeClassifier\n",
    "from sklearn.ensemble import ExtraTreesClassifier\n",
    "from sklearn.naive_bayes import GaussianNB\n",
    "from sklearn.gaussian_process import GaussianProcessClassifier\n",
    "from sklearn.ensemble import GradientBoostingClassifier\n",
    "from sklearn.ensemble import HistGradientBoostingClassifier\n",
    "from sklearn.neighbors import KNeighborsClassifier\n",
    "from sklearn.semi_supervised import LabelPropagation\n",
    "from sklearn.semi_supervised import LabelSpreading\n",
    "from sklearn.discriminant_analysis import LinearDiscriminantAnalysis\n",
    "from sklearn.svm import LinearSVC\n",
    "from sklearn.linear_model import LogisticRegression\n",
    "from sklearn.linear_model import LogisticRegressionCV\n",
    "from sklearn.neural_network import MLPClassifier\n",
    "from sklearn.multioutput import MultiOutputClassifier\n",
    "from sklearn.naive_bayes import MultinomialNB\n",
    "from sklearn.neighbors import NearestCentroid\n",
    "from sklearn.svm import NuSVC\n",
    "from sklearn.multiclass import OneVsOneClassifier\n",
    "from sklearn.multiclass import OneVsRestClassifier\n",
    "from sklearn.multiclass import OutputCodeClassifier\n",
    "from sklearn.linear_model import PassiveAggressiveClassifier\n",
    "from sklearn.linear_model import Perceptron\n",
    "from sklearn.discriminant_analysis import QuadraticDiscriminantAnalysis\n",
    "from sklearn.neighbors import RadiusNeighborsClassifier\n",
    "from sklearn.ensemble import RandomForestClassifier\n",
    "from sklearn.linear_model import RidgeClassifier\n",
    "from sklearn.linear_model import RidgeClassifierCV\n",
    "from sklearn.linear_model import SGDClassifier\n",
    "from sklearn.svm import SVC\n",
    "from sklearn.ensemble import StackingClassifier\n",
    "from sklearn.ensemble import VotingClassifier"
   ]
  },
  {
   "cell_type": "code",
   "execution_count": 2,
   "metadata": {},
   "outputs": [],
   "source": [
    "import numpy as np\n",
    "import pandas as pd\n",
    "\n",
    "from sklearn.model_selection import train_test_split, \\\n",
    "                    cross_val_score\n",
    "\n",
    "import warnings \n",
    "np.warnings.filterwarnings('ignore', category=np.VisibleDeprecationWarning)                 \n",
    "warnings.filterwarnings(\"ignore\")"
   ]
  },
  {
   "attachments": {},
   "cell_type": "markdown",
   "metadata": {},
   "source": [
    "Data pre-processing"
   ]
  },
  {
   "cell_type": "code",
   "execution_count": 3,
   "metadata": {},
   "outputs": [],
   "source": [
    "# Loading csv\n",
    "import os\n",
    "filepath = os.path.abspath(\".\")\n",
    "initial_df = pd.read_csv(rf'{filepath}\\train.csv')\n",
    "submission_df = pd.read_csv(rf'{filepath}\\test.csv')\n",
    "\n",
    "# Data preproccesing - Fill NaN values\n",
    "initial_df['Age'] = initial_df['Age'].fillna(0)\n",
    "# initial_df['Cabin'] = initial_df['Cabin'].fillna(0)\n",
    "submission_df['Age'] = submission_df['Age'].fillna(0)\n",
    "# submission_df['Cabin'] = submission_df['Cabin'].fillna(0)\n",
    "submission_df['Fare'] = submission_df['Fare'].fillna(0)\n",
    "\n",
    "# features = ['Pclass', 'Sex', 'Is_Name_Master', 'Age', 'SibSp', 'Parch', 'Fare', 'Embarked'] # + shuffle=False - 0.78708 \n",
    "features = ['Pclass', 'Sex', 'Age', 'SibSp', 'Parch', 'Fare', 'Embarked']\n",
    "\n",
    "initial_with_dummies_df = pd.get_dummies(initial_df[features + ['Survived']])\n",
    "submission_with_dummies_df = pd.get_dummies(submission_df[features])\n",
    "\n",
    "# Data preproccesing - Get X, y\n",
    "X = initial_with_dummies_df.drop(['Survived'], axis=1).values\n",
    "y = initial_with_dummies_df['Survived'].values\n",
    "X_submission = submission_with_dummies_df.values\n",
    "\n",
    "# Data preproccesing - Divining Data for training\n",
    "X_train, X_test, y_train, y_test = train_test_split(X, y, test_size=0.25, shuffle=False, random_state=1)"
   ]
  },
  {
   "attachments": {},
   "cell_type": "markdown",
   "metadata": {},
   "source": [
    "Let's create a list withh all models. Some models do not have default options, so we will list the options below"
   ]
  },
  {
   "cell_type": "code",
   "execution_count": 4,
   "metadata": {},
   "outputs": [],
   "source": [
    "# Setup default parameters\n",
    "estimator = RandomForestClassifier(random_state=1).fit(X_train, y_train)\n",
    "estimator_kn = LogisticRegression().fit(X_train, y_train)\n",
    "estimators = [('rf', estimator),\n",
    "              ('kn', estimator_kn)]\n",
    "param_grid = {\"max_depth\": [3, None], \"min_samples_split\": [5, 10]}\n",
    "\n",
    "model_names = [\n",
    "    'AdaBoostClassifier',\n",
    "    'BaggingClassifier',\n",
    "    'BernoulliNB',\n",
    "    'CalibratedClassifierCV',\n",
    "    ('CategoricalNB', '(min_categories=75)'),\n",
    "    ('ClassifierChain', f'(base_estimator={estimator_kn})'),    \n",
    "    'ComplementNB',\n",
    "    'DecisionTreeClassifier',\n",
    "    ('DummyClassifier', '(strategy=\"most_frequent\", random_state=1)'),\n",
    "    'ExtraTreeClassifier',\n",
    "    'ExtraTreesClassifier',\n",
    "    'GaussianNB',\n",
    "    'GaussianProcessClassifier',\n",
    "    'GradientBoostingClassifier',\n",
    "    'HistGradientBoostingClassifier',\n",
    "    'KNeighborsClassifier',\n",
    "    'LabelPropagation',\n",
    "    'LabelSpreading',\n",
    "    'LinearDiscriminantAnalysis',\n",
    "    'LinearSVC',\n",
    "    'LogisticRegression',\n",
    "    'LogisticRegressionCV',\n",
    "    'MLPClassifier',\n",
    "    ('MultiOutputClassifier', f'(estimator={estimator})'),\n",
    "    'MultinomialNB',\n",
    "    'NearestCentroid',\n",
    "    'NuSVC',\n",
    "    ('OneVsOneClassifier', f'(estimator={estimator})'),\n",
    "    ('OneVsRestClassifier', f'(estimator={estimator})'),\n",
    "    ('OutputCodeClassifier', f'(estimator={estimator})'),\n",
    "    'PassiveAggressiveClassifier',\n",
    "    ('Perceptron', '(shuffle=False, random_state=1)'),\n",
    "    'QuadraticDiscriminantAnalysis',\n",
    "    ('RadiusNeighborsClassifier', '(radius=50)'),\n",
    "    'RandomForestClassifier',\n",
    "    'RidgeClassifier',\n",
    "    'RidgeClassifierCV',\n",
    "    'SGDClassifier',\n",
    "    'SVC',\n",
    "    ('StackingClassifier', f'(estimators={estimators})'),\n",
    "    ('VotingClassifier', f'(estimators={estimators})'),\n",
    "]"
   ]
  },
  {
   "cell_type": "code",
   "execution_count": 5,
   "metadata": {},
   "outputs": [],
   "source": [
    "# Useful functions for processing all models\n",
    "def model_score(model_name, save_to_csv=False):\n",
    "    model = None\n",
    "    name = model_name\n",
    "    if type(model_name) is tuple:\n",
    "        model = eval(model_name[0] + model_name[1])\n",
    "        name = str(model).split('(')[0]\n",
    "    else:\n",
    "        try:\n",
    "            model = eval(model_name + '(random_state=1)')\n",
    "        except:\n",
    "            model = eval(model_name + '()')\n",
    "    \n",
    "    if name == 'ClassifierChain' or name == 'MultiOutputClassifier':\n",
    "        return model_scores_special(model, save_to_csv=save_to_csv)\n",
    "    \n",
    "    model.fit(X_train, y_train)\n",
    "    \n",
    "    y_final = model.predict(X_submission)\n",
    "    final_df = pd.DataFrame({'PassengerId': submission_df['PassengerId'], 'Survived': y_final})\n",
    "    if save_to_csv:\n",
    "        final_df.to_csv(f'{name}.csv', index=False)\n",
    "    \n",
    "    cv_test = cross_val_score(model, X_test, y_test, cv=5).mean().round(5)\n",
    "    model_score = model.score(X_test, y_test).round(5)\n",
    "    return [name, cv_test, model_score]\n",
    "    \n",
    "    \n",
    "def model_scores_special(model, save_to_csv=False):\n",
    "    X_train, X_test, y_train, y_test = train_test_split(X, y, test_size=0.25, shuffle=False, random_state=1)\n",
    "    y_train = y_train.reshape(-1, 1)\n",
    "    y_test = y_test.reshape(-1, 1)\n",
    "    model.fit(X_train, y_train)\n",
    "    \n",
    "    # Calculate model scores\n",
    "    y_final = model.predict(X_submission)\n",
    "    y_final = np.concatenate(y_final).astype(int)\n",
    "    y_final = y_final.reshape(y_final.shape[0],)\n",
    "      \n",
    "    final_df = pd.DataFrame({'PassengerId': submission_df['PassengerId'], 'Survived': y_final})\n",
    "    cv_test = cross_val_score(model, X_test, y_test, cv=5).mean().round(5)\n",
    "    model_score = model.score(X_test, y_test).round(5)    \n",
    "    name = str(model).split('(')[0]\n",
    "\n",
    "    if save_to_csv:\n",
    "        final_df.to_csv(f'{name}.csv', index=False)\n",
    "    \n",
    "    return [name, cv_test, model_score]"
   ]
  },
  {
   "attachments": {},
   "cell_type": "markdown",
   "metadata": {},
   "source": [
    "Models training"
   ]
  },
  {
   "cell_type": "code",
   "execution_count": null,
   "metadata": {},
   "outputs": [],
   "source": [
    "models_scores = [model_score(name) for name in model_names]  \n",
    "   \n",
    "models_scores_df = pd.DataFrame(np.array(models_scores), columns=['Model', 'Cross_Validation', 'Accuracy'])\n",
    "models_scores_df.sort_values(['Cross_Validation', 'Accuracy'], ascending=False, inplace=True)\n",
    "models_scores_df = models_scores_df.set_index('Model')\n"
   ]
  },
  {
   "attachments": {},
   "cell_type": "markdown",
   "metadata": {},
   "source": [
    "Real scores in Kaggle"
   ]
  },
  {
   "cell_type": "code",
   "execution_count": 6,
   "metadata": {},
   "outputs": [
    {
     "ename": "NameError",
     "evalue": "name 'models_scores_df' is not defined",
     "output_type": "error",
     "traceback": [
      "\u001b[1;31m---------------------------------------------------------------------------\u001b[0m",
      "\u001b[1;31mNameError\u001b[0m                                 Traceback (most recent call last)",
      "\u001b[1;32mc:\\Users\\Mo\\Python\\notebooks\\Machine learning\\titanic\\Titanic_40_models.ipynb Cellule 12\u001b[0m in \u001b[0;36m<cell line: 1>\u001b[1;34m()\u001b[0m\n\u001b[1;32m----> <a href='vscode-notebook-cell:/c%3A/Users/Mo/Python/notebooks/Machine%20learning/titanic/Titanic_40_models.ipynb#X14sZmlsZQ%3D%3D?line=0'>1</a>\u001b[0m models_scores_df[\u001b[39m'\u001b[39m\u001b[39mReal_Score\u001b[39m\u001b[39m'\u001b[39m] \u001b[39m=\u001b[39m [\u001b[39m0.76076\u001b[39m, \u001b[39m0.77511\u001b[39m, \u001b[39m0.77511\u001b[39m, \u001b[39m0.77511\u001b[39m, \u001b[39m0.77511\u001b[39m, \u001b[39m0.77511\u001b[39m, \u001b[39m0.77751\u001b[39m, \n\u001b[0;32m      <a href='vscode-notebook-cell:/c%3A/Users/Mo/Python/notebooks/Machine%20learning/titanic/Titanic_40_models.ipynb#X14sZmlsZQ%3D%3D?line=1'>2</a>\u001b[0m                                   \u001b[39m0.77751\u001b[39m, \u001b[39m0.72966\u001b[39m, \u001b[39m0.76315\u001b[39m, \u001b[39m0.78229\u001b[39m, \u001b[39m0.76555\u001b[39m, \u001b[39m0.74401\u001b[39m, \u001b[39m0.77033\u001b[39m,\n\u001b[0;32m      <a href='vscode-notebook-cell:/c%3A/Users/Mo/Python/notebooks/Machine%20learning/titanic/Titanic_40_models.ipynb#X14sZmlsZQ%3D%3D?line=2'>3</a>\u001b[0m                                   \u001b[39m0.76794\u001b[39m, \u001b[39m0.76794\u001b[39m, \u001b[39m0.76794\u001b[39m, \u001b[39m0.76794\u001b[39m, \u001b[39m0.76794\u001b[39m, \u001b[39m0.76076\u001b[39m, \u001b[39m0.76555\u001b[39m,\n\u001b[0;32m      <a href='vscode-notebook-cell:/c%3A/Users/Mo/Python/notebooks/Machine%20learning/titanic/Titanic_40_models.ipynb#X14sZmlsZQ%3D%3D?line=3'>4</a>\u001b[0m                                   \u001b[39m0.77033\u001b[39m, \u001b[39m0.74641\u001b[39m, \u001b[39m0.70574\u001b[39m, \u001b[39m0.63636\u001b[39m, \u001b[39m0.70095\u001b[39m, \u001b[39m0.66985\u001b[39m, \u001b[39m0.74641\u001b[39m,\n\u001b[0;32m      <a href='vscode-notebook-cell:/c%3A/Users/Mo/Python/notebooks/Machine%20learning/titanic/Titanic_40_models.ipynb#X14sZmlsZQ%3D%3D?line=4'>5</a>\u001b[0m                                   \u001b[39m0.6244\u001b[39m , \u001b[39m0.63397\u001b[39m, \u001b[39m0.65789\u001b[39m, \u001b[39m0.66507\u001b[39m, \u001b[39m0.6555\u001b[39m , \u001b[39m0.66267\u001b[39m, \u001b[39m0.62679\u001b[39m,\n\u001b[0;32m      <a href='vscode-notebook-cell:/c%3A/Users/Mo/Python/notebooks/Machine%20learning/titanic/Titanic_40_models.ipynb#X14sZmlsZQ%3D%3D?line=5'>6</a>\u001b[0m                                   \u001b[39m0.65311\u001b[39m, \u001b[39m0.64832\u001b[39m, \u001b[39m0.61483\u001b[39m, \u001b[39m0.61483\u001b[39m, \u001b[39m0.61961\u001b[39m, \u001b[39m0.622\u001b[39m]\n\u001b[0;32m      <a href='vscode-notebook-cell:/c%3A/Users/Mo/Python/notebooks/Machine%20learning/titanic/Titanic_40_models.ipynb#X14sZmlsZQ%3D%3D?line=7'>8</a>\u001b[0m models_scores_df\n",
      "\u001b[1;31mNameError\u001b[0m: name 'models_scores_df' is not defined"
     ]
    }
   ],
   "source": [
    "models_scores_df['Real_Score'] = [0.76076, 0.77511, 0.77511, 0.77511, 0.77511, 0.77511, 0.77751, \n",
    "                                  0.77751, 0.72966, 0.76315, 0.78229, 0.76555, 0.74401, 0.77033,\n",
    "                                  0.76794, 0.76794, 0.76794, 0.76794, 0.76794, 0.76076, 0.76555,\n",
    "                                  0.77033, 0.74641, 0.70574, 0.63636, 0.70095, 0.66985, 0.74641,\n",
    "                                  0.6244 , 0.63397, 0.65789, 0.66507, 0.6555 , 0.66267, 0.62679,\n",
    "                                  0.65311, 0.64832, 0.61483, 0.61483, 0.61961, 0.622]\n",
    "\n",
    "models_scores_df"
   ]
  }
 ],
 "metadata": {
  "kernelspec": {
   "display_name": "base",
   "language": "python",
   "name": "python3"
  },
  "language_info": {
   "codemirror_mode": {
    "name": "ipython",
    "version": 3
   },
   "file_extension": ".py",
   "mimetype": "text/x-python",
   "name": "python",
   "nbconvert_exporter": "python",
   "pygments_lexer": "ipython3",
   "version": "3.9.12"
  },
  "orig_nbformat": 4,
  "vscode": {
   "interpreter": {
    "hash": "824480eebd21a519a881ff5077d4bf7e625c132ad9908a62de3ad1328dc859e8"
   }
  }
 },
 "nbformat": 4,
 "nbformat_minor": 2
}
